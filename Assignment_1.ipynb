{
 "cells": [
  {
   "cell_type": "markdown",
   "id": "f19e4472-a4c0-411f-b634-5de7bae143c3",
   "metadata": {
    "jp-MarkdownHeadingCollapsed": true
   },
   "source": [
    "# Welcome DEPI R2\n",
    "## Alex Group\n",
    "**IBM DS**\n",
    "\n",
    "By \n",
    "\n",
    "*Mohammed Shaltout*\n",
    "\n",
    "- Session 3\n",
    "    - Jupyter\n",
    "\n",
    "We found thataverage salary of the company is 50.0 $\n",
    "\n",
    "so we can deduce the expenses"
   ]
  }
 ],
 "metadata": {
  "kernelspec": {
   "display_name": "Python 3 (ipykernel)",
   "language": "python",
   "name": "python3"
  },
  "language_info": {
   "codemirror_mode": {
    "name": "ipython",
    "version": 3
   },
   "file_extension": ".py",
   "mimetype": "text/x-python",
   "name": "python",
   "nbconvert_exporter": "python",
   "pygments_lexer": "ipython3",
   "version": "3.12.7"
  }
 },
 "nbformat": 4,
 "nbformat_minor": 5
}
